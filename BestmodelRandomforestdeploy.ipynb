{
 "cells": [
  {
   "cell_type": "code",
   "execution_count": 5,
   "id": "2df8192a-6681-430d-8b63-9850cb7e1568",
   "metadata": {},
   "outputs": [
    {
     "name": "stdin",
     "output_type": "stream",
     "text": [
      "Enter Age 34\n",
      "Enter BMI 34\n",
      "Enter no of Children 3\n",
      "Enter Sex_male 0\n",
      "Enter smoker_yes 1\n"
     ]
    },
    {
     "name": "stdout",
     "output_type": "stream",
     "text": [
      "Insurance Charge Predicted={} [37768.9418968]\n"
     ]
    },
    {
     "name": "stderr",
     "output_type": "stream",
     "text": [
      "C:\\Users\\Admin\\anaconda3\\Lib\\site-packages\\sklearn\\base.py:493: UserWarning: X does not have valid feature names, but RandomForestRegressor was fitted with feature names\n",
      "  warnings.warn(\n"
     ]
    }
   ],
   "source": [
    "import pickle\n",
    "l_model=pickle.load(open(\"finalmodel.sav\",\"rb\"))\n",
    "age=int(input(\"Enter Age\"))\n",
    "bmi=int(input(\"Enter BMI\"))\n",
    "children=int(input(\"Enter no of Children\"))\n",
    "sex=int(input(\"Enter Sex_male\"))\n",
    "smoker=int(input(\"Enter smoker_yes\"))\n",
    "pred=l_model.predict([[age,bmi,children,sex,smoker]])\n",
    "print(\"Insurance Charge Predicted={}\",pred)"
   ]
  },
  {
   "cell_type": "code",
   "execution_count": null,
   "id": "43ff6295-ffa5-4c7f-ad4a-491134d8526c",
   "metadata": {},
   "outputs": [],
   "source": []
  }
 ],
 "metadata": {
  "kernelspec": {
   "display_name": "Python 3 (ipykernel)",
   "language": "python",
   "name": "python3"
  },
  "language_info": {
   "codemirror_mode": {
    "name": "ipython",
    "version": 3
   },
   "file_extension": ".py",
   "mimetype": "text/x-python",
   "name": "python",
   "nbconvert_exporter": "python",
   "pygments_lexer": "ipython3",
   "version": "3.12.4"
  }
 },
 "nbformat": 4,
 "nbformat_minor": 5
}
